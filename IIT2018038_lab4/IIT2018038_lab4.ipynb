{
 "metadata": {
  "language_info": {
   "codemirror_mode": {
    "name": "ipython",
    "version": 3
   },
   "file_extension": ".py",
   "mimetype": "text/x-python",
   "name": "python",
   "nbconvert_exporter": "python",
   "pygments_lexer": "ipython3",
   "version": "3.8.7-final"
  },
  "orig_nbformat": 2,
  "kernelspec": {
   "name": "python3",
   "display_name": "Python 3.8.7 64-bit",
   "metadata": {
    "interpreter": {
     "hash": "082e9a3bcad0a290d0001e938aa60b99250c6c2ef33a923c00b70f9826caf4b7"
    }
   }
  }
 },
 "nbformat": 4,
 "nbformat_minor": 2,
 "cells": [
  {
   "cell_type": "code",
   "execution_count": 18,
   "metadata": {},
   "outputs": [],
   "source": [
    "import csv\n",
    "import math\n",
    "import numpy as np\n"
   ]
  },
  {
   "cell_type": "code",
   "execution_count": 19,
   "metadata": {},
   "outputs": [],
   "source": [
    "#Entropy value for a target is being returned to the calling function\n",
    "def entropy_for_a_target(frequency_of_tdata, length_of_data):\n",
    "    ent= (-frequency_of_tdata/length_of_data)*math.log(frequency_of_tdata/length_of_data,2)\n",
    "    return ent\n",
    "\n",
    "#Function to calculate the entropy, returns the entropy\n",
    "def entropy(data):\n",
    "\n",
    "    targets = [row[0] for row in data]\n",
    "    frequency_of_targets = {x: targets.count(x) for x in set(targets)}\n",
    "    entropy_by_target = {x: entropy_for_a_target(frequency, len(data)) for x, frequency in frequency_of_targets.items()}\n",
    "    return sum(entropy_by_target.values())\n",
    "\n",
    "#Probability is calculated, it returns the freq/length of data\n",
    "def get_probability(target_value, distribution):\n",
    "\n",
    "    length_of_data = len(distribution)\n",
    "    frequency_of_target = distribution.count(target_value)\n",
    "    return frequency_of_target/length_of_data\n",
    "\n",
    "#Function to calculate the information gain, returns the gain value\n",
    "def information_gain(data, attribute_index):\n",
    "\n",
    "    entropy_value = entropy(data)\n",
    "    attribute_values = [x[attribute_index] for x in data]\n",
    "    unique_attribute_values = set(attribute_values)\n",
    "    gain = 0\n",
    "\n",
    "    for attribute_value in unique_attribute_values:\n",
    "        filtered_data = [x for x in data if x[attribute_index] == attribute_value]\n",
    "        prob = get_probability(attribute_value, attribute_values)\n",
    "        entropy_for_value = entropy(filtered_data)\n",
    "        gain += (prob * entropy_for_value)\n",
    "\n",
    "    return entropy_value - gain\n",
    "\n",
    "# Function to choose the best attribute, it returns the maximum gain attribute\n",
    "def choose_attribute(data):\n",
    "    max_gain = 0\n",
    "    max_gain_attribute = -1\n",
    "    total_attributes = len(data[0]) - 1\n",
    "\n",
    "    for x in range(total_attributes):\n",
    "        attribute_index = x + 1\n",
    "        gain = information_gain(data, attribute_index)\n",
    "        if gain > max_gain:\n",
    "            max_gain = gain\n",
    "            max_gain_attribute = attribute_index\n",
    "            \n",
    "    return max_gain_attribute\n",
    "\n"
   ]
  },
  {
   "cell_type": "code",
   "execution_count": 23,
   "metadata": {},
   "outputs": [],
   "source": [
    "#Function to build the decision tree, it returns a tree\n",
    "def build_tree(data, title):\n",
    "    total_attributes = len(data[0]) - 1\n",
    "\n",
    "    if total_attributes == 0:\n",
    "        return\n",
    "    target_values = set([x[0] for x in data])\n",
    "\n",
    "    if len(target_values) == 1:\n",
    "        return target_values.pop()\n",
    "\n",
    "    chosen_attribute_index = choose_attribute(data)\n",
    "    tree = {title[chosen_attribute_index]: {}}\n",
    "    attribute_values = set([x[chosen_attribute_index] for x in data])\n",
    "    for value in attribute_values:\n",
    "        filtered_data = [x for x in data if x[chosen_attribute_index] == value]\n",
    "        subtree = build_tree(filtered_data, title)\n",
    "        tree[title[chosen_attribute_index]][value] = subtree\n",
    "\n",
    "    return tree\n",
    "\n",
    "#Function to get the result from decision tree, it returns a tree\n",
    "def get_result_from_decision_tree(tree, row, title, unique_targets):\n",
    "    if len(row) != len(title):\n",
    "        print(\"R\", row)\n",
    "        print(\"T\", title)\n",
    "        print(\"PROBLEM\")\n",
    "\n",
    "    while True:\n",
    "        root_key = list(tree.keys())[0]\n",
    "        root_index = title.index(root_key)\n",
    "        value = row[root_index]\n",
    "        if root_key not in tree:\n",
    "            return None\n",
    "        if value not in tree[root_key]:\n",
    "            return None\n",
    "        tree = tree[root_key][value]\n",
    "        if tree in list(unique_targets):\n",
    "            return tree\n"
   ]
  },
  {
   "cell_type": "code",
   "execution_count": 24,
   "metadata": {},
   "outputs": [],
   "source": [
    "#Function to test the decision tree and return the percentage of accuracy\n",
    "def test_decision_tree(test_data, title, unique_targets, tree):\n",
    "    targets = [row[0] for row in test_data]\n",
    "    no_of_correct_answers = 0\n",
    "\n",
    "    for index, row in enumerate(test_data):\n",
    "        result = get_result_from_decision_tree(tree, row, title, unique_targets)\n",
    "\n",
    "        if result == targets[index]:\n",
    "            no_of_correct_answers+=1\n",
    "            \n",
    "    return no_of_correct_answers/len(test_data) * 100\n"
   ]
  },
  {
   "cell_type": "code",
   "execution_count": 25,
   "metadata": {},
   "outputs": [
    {
     "output_type": "stream",
     "name": "stdout",
     "text": [
      "{'Estimated Safety of the Car': {'high': {'Persons Capacity': {'2': 'unacc', 'more': {'Buying Price': {'high': {'Maintenance Price': {'high': {'Size of the Lug_Boot': {'big': 'acc', 'med': 'acc', 'small': {'Number of Doors in the Car': {'2': 'unacc', '4': 'acc'}}}}, 'med': {'Number of Doors in the Car': {'3': 'acc', '2': 'unacc', '5more': 'acc', '4': 'acc'}}, 'low': 'acc', 'vhigh': 'unacc'}}, 'med': {'Maintenance Price': {'low': {'Size of the Lug_Boot': {'big': 'vgood', 'med': {'Number of Doors in the Car': {'3': 'vgood', '2': 'good', '5more': 'vgood'}}, 'small': {'Number of Doors in the Car': {'3': 'good', '2': 'unacc', '5more': 'good'}}}}, 'med': {'Size of the Lug_Boot': {'big': 'vgood', 'med': {'Number of Doors in the Car': {'3': 'vgood', '2': 'acc', '5more': 'vgood', '4': 'vgood'}}, 'small': {'Number of Doors in the Car': {'3': 'acc', '2': 'unacc', '5more': 'acc', '4': 'acc'}}}}, 'vhigh': 'acc', 'high': {'Number of Doors in the Car': {'3': 'acc', '2': 'unacc', '5more': 'acc', '4': 'acc'}}}}, 'low': {'Maintenance Price': {'low': {'Size of the Lug_Boot': {'big': 'vgood', 'med': 'good', 'small': 'good'}}, 'med': {'Size of the Lug_Boot': {'big': 'vgood', 'med': {'Number of Doors in the Car': {'3': 'vgood', '2': 'good', '5more': 'vgood', '4': 'vgood'}}, 'small': 'good'}}, 'vhigh': {'Number of Doors in the Car': {'3': 'acc', '2': {'Size of the Lug_Boot': {'big': 'acc', 'small': 'unacc'}}, '5more': 'acc', '4': 'acc'}}, 'high': {'Size of the Lug_Boot': {'big': 'vgood', 'med': 'vgood', 'small': {'Number of Doors in the Car': {'3': 'acc', '2': 'unacc', '4': 'acc'}}}}}}, 'vhigh': {'Maintenance Price': {'low': 'acc', 'med': 'acc', 'vhigh': 'unacc', 'high': 'unacc'}}}}, '4': {'Buying Price': {'high': {'Maintenance Price': {'high': 'acc', 'med': 'acc', 'low': 'acc', 'vhigh': 'unacc'}}, 'med': {'Maintenance Price': {'low': {'Size of the Lug_Boot': {'big': 'vgood', 'med': {'Number of Doors in the Car': {'2': 'good', '5more': 'vgood', '4': 'vgood'}}, 'small': 'good'}}, 'med': {'Number of Doors in the Car': {'3': 'acc', '2': 'acc', '5more': 'vgood', '4': 'acc'}}, 'vhigh': 'acc', 'high': 'acc'}}, 'low': {'Maintenance Price': {'high': {'Size of the Lug_Boot': {'big': 'vgood', 'med': {'Number of Doors in the Car': {'3': 'acc', '2': 'acc', '4': 'vgood'}}, 'small': 'acc'}}, 'med': {'Size of the Lug_Boot': {'big': 'vgood', 'med': 'good', 'small': 'good'}}, 'low': {'Size of the Lug_Boot': {'big': 'vgood', 'med': 'good', 'small': 'good'}}, 'vhigh': 'acc'}}, 'vhigh': {'Maintenance Price': {'low': 'acc', 'med': 'acc', 'vhigh': 'unacc', 'high': 'unacc'}}}}}}, 'med': {'Persons Capacity': {'2': 'unacc', 'more': {'Buying Price': {'low': {'Maintenance Price': {'high': 'acc', 'med': {'Size of the Lug_Boot': {'big': 'good', 'med': 'good', 'small': 'acc'}}, 'low': {'Size of the Lug_Boot': {'big': 'good', 'med': {'Number of Doors in the Car': {'3': 'good', '2': 'acc'}}, 'small': {'Number of Doors in the Car': {'3': 'acc', '2': 'unacc', '5more': 'acc'}}}}, 'vhigh': {'Size of the Lug_Boot': {'big': 'acc', 'med': {'Number of Doors in the Car': {'3': 'acc', '2': 'unacc', '5more': 'acc', '4': 'acc'}}, 'small': 'unacc'}}}}, 'med': {'Number of Doors in the Car': {'3': {'Size of the Lug_Boot': {'big': 'good', 'med': 'acc', 'small': 'acc'}}, '2': {'Size of the Lug_Boot': {'big': 'acc', 'med': {'Maintenance Price': {'low': 'acc', 'med': 'acc', 'vhigh': 'unacc', 'high': 'unacc'}}, 'small': 'unacc'}}, '5more': {'Maintenance Price': {'high': 'acc', 'med': 'acc', 'low': {'Size of the Lug_Boot': {'big': 'good', 'med': 'good', 'small': 'acc'}}, 'vhigh': 'acc'}}, '4': {'Maintenance Price': {'high': 'acc', 'med': 'acc', 'low': {'Size of the Lug_Boot': {'big': 'good', 'med': 'good', 'small': 'acc'}}}}}}, 'vhigh': {'Maintenance Price': {'high': 'unacc', 'med': {'Size of the Lug_Boot': {'big': 'acc', 'med': 'acc', 'small': 'unacc'}}, 'low': {'Size of the Lug_Boot': {'big': 'acc', 'med': 'acc', 'small': 'unacc'}}, 'vhigh': 'unacc'}}, 'high': {'Size of the Lug_Boot': {'big': {'Maintenance Price': {'low': 'acc', 'med': 'acc', 'vhigh': 'unacc'}}, 'med': {'Number of Doors in the Car': {'3': {'Maintenance Price': {'low': 'acc', 'med': 'acc', 'vhigh': 'unacc'}}, '2': 'unacc', '5more': {'Maintenance Price': {'med': 'acc', 'vhigh': 'unacc'}}, '4': 'acc'}}, 'small': 'unacc'}}}}, '4': {'Buying Price': {'high': {'Size of the Lug_Boot': {'big': 'acc', 'med': {'Maintenance Price': {'low': 'acc', 'med': {'Number of Doors in the Car': {'3': 'unacc', '4': 'acc'}}, 'vhigh': 'unacc', 'high': {'Number of Doors in the Car': {'2': 'unacc', '5more': 'acc'}}}}, 'small': 'unacc'}}, 'med': {'Maintenance Price': {'low': {'Size of the Lug_Boot': {'big': 'good', 'med': {'Number of Doors in the Car': {'3': 'acc', '2': 'acc', '5more': 'good', '4': 'good'}}, 'small': 'acc'}}, 'med': 'acc', 'vhigh': {'Size of the Lug_Boot': {'big': 'acc', 'med': {'Number of Doors in the Car': {'3': 'unacc', '2': 'unacc', '5more': 'acc', '4': 'acc'}}, 'small': 'unacc'}}, 'high': {'Size of the Lug_Boot': {'big': 'acc', 'med': {'Number of Doors in the Car': {'2': 'unacc', '4': 'acc'}}, 'small': 'unacc'}}}}, 'low': {'Maintenance Price': {'high': 'acc', 'med': {'Size of the Lug_Boot': {'big': 'good', 'med': {'Number of Doors in the Car': {'3': 'acc', '2': 'acc', '4': 'good'}}, 'small': 'acc'}}, 'low': {'Size of the Lug_Boot': {'big': 'good', 'med': {'Number of Doors in the Car': {'3': 'acc', '5more': 'good'}}, 'small': 'acc'}}, 'vhigh': {'Number of Doors in the Car': {'3': {'Size of the Lug_Boot': {'big': 'acc', 'med': 'unacc'}}, '2': {'Size of the Lug_Boot': {'big': 'acc', 'med': 'unacc'}}, '5more': 'acc', '4': 'acc'}}}}, 'vhigh': {'Size of the Lug_Boot': {'big': 'unacc', 'med': {'Maintenance Price': {'high': 'unacc', 'med': {'Number of Doors in the Car': {'3': 'unacc', '5more': 'acc', '4': 'acc'}}, 'low': {'Number of Doors in the Car': {'3': 'unacc', '2': 'unacc', '5more': 'acc', '4': 'acc'}}, 'vhigh': 'unacc'}}, 'small': 'unacc'}}}}}}, 'low': 'unacc'}}\n\n\nAccuracy of training data %  100.0\nAccuracy of test data %  92.7536231884058\n"
     ]
    }
   ],
   "source": [
    "#Function to read the dataset from csv file\n",
    "with open(\"cardata.csv\", 'r') as f:\n",
    "  reader = csv.reader(f)\n",
    "  data = list(reader)\n",
    "  title = data.pop(0)\n",
    "  targets = [row[0] for row in data]\n",
    "  unique_targets = set(targets)\n",
    "\n",
    "  #random sampling with replacement\n",
    "  training_row_indices = np.random.choice(len(data),int(len(data) * 0.80), replace=True)\n",
    "  X_train = [data[i] for i in training_row_indices]\n",
    "\n",
    "  testing_row_indices = np.random.choice(len(data), int(len(data) * 0.20), replace=True)\n",
    "  X_test = [data[i] for i in testing_row_indices]\n",
    "\n",
    "  #build_tree function is called\n",
    "  tree = build_tree(X_train, title)\n",
    "  print(tree)\n",
    "  print(\"\\n\")\n",
    "\n",
    "  #accuracy of both the training ann test data is calculated through the test_decision_tree function\n",
    "  accuracy_of_trainingdata=test_decision_tree(X_train,title,unique_targets,tree)\n",
    "  print (\"Accuracy of training data % \", accuracy_of_trainingdata)\n",
    "\n",
    "  accuracy_of_testdata = test_decision_tree(X_test, title, unique_targets, tree)\n",
    "  print (\"Accuracy of test data % \", accuracy_of_testdata)"
   ]
  }
 ]
}