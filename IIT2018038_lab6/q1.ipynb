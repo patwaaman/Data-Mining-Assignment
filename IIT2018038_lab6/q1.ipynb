{
 "metadata": {
  "language_info": {
   "codemirror_mode": {
    "name": "ipython",
    "version": 3
   },
   "file_extension": ".py",
   "mimetype": "text/x-python",
   "name": "python",
   "nbconvert_exporter": "python",
   "pygments_lexer": "ipython3",
   "version": "3.8.7-final"
  },
  "orig_nbformat": 2,
  "kernelspec": {
   "name": "python3",
   "display_name": "Python 3.8.7 64-bit",
   "metadata": {
    "interpreter": {
     "hash": "082e9a3bcad0a290d0001e938aa60b99250c6c2ef33a923c00b70f9826caf4b7"
    }
   }
  }
 },
 "nbformat": 4,
 "nbformat_minor": 2,
 "cells": [
  {
   "cell_type": "code",
   "execution_count": 2,
   "metadata": {},
   "outputs": [
    {
     "output_type": "stream",
     "name": "stdout",
     "text": [
      "split-ratio is:  0.7\n",
      "\n",
      "starts training\n",
      "weight vector w after training for 500 epochs is: \n",
      "[ 2.26894682  0.          4.147146    1.9445708   2.81005752 -0.02033202\n",
      " -1.64950214  1.79366377 -0.93782224 -0.2113042  -2.24760648 -0.59798058\n",
      " -0.7009266  -0.38694726  0.1412599   1.02372384 -0.15690756 -0.11371332\n",
      "  0.02924304  0.10337141 -0.21382402  0.29297714 -0.37926532  0.18884352\n",
      "  0.33352735  0.2626771  -0.27884189  0.45677884 -0.90865215  0.08408077\n",
      "  0.45875599  0.07873722 -0.34147364  0.06483665 -1.03542902]\n",
      "\n",
      "train_accuracy is:  77.64227642276423\n",
      "test_accuracy is:  75.23809523809524\n"
     ]
    }
   ],
   "source": [
    "import pandas as pd\n",
    "import numpy as np\n",
    "df = pd.read_csv(\"ionosphere.csv\")\n",
    "\n",
    "#print(df)\n",
    "\n",
    "split_ratio = 0.7\n",
    "train_data = df.sample(frac=split_ratio)\n",
    "test_data = df.drop(train_data.index)\n",
    "print(\"split-ratio is: \", split_ratio)\n",
    "print()\n",
    "############################################################################################\n",
    "def train_svm(data, epochs):\n",
    "    #Initialize our SVMs weight vector with zeros (3 values)\n",
    "    w = np.zeros(35)\n",
    "\n",
    "    # The learning rate\n",
    "    learning_rate = 1\n",
    "    \n",
    "    # Training\n",
    "    print(\"starts training\")\n",
    "    \n",
    "    \n",
    "    for epoch in range(1, epochs):\n",
    "        \n",
    "        for i in data.index:\n",
    "            temp = 0\n",
    "            if data[\"34\"][i] == \"g\":\n",
    "                temp=1\n",
    "            else:\n",
    "                temp=-1\n",
    "                \n",
    "            xx = list(data.loc[i])\n",
    "            xx = xx[:34]\n",
    "            xx.append(1)\n",
    "            ww=w\n",
    "            for j in range(len(ww)):\n",
    "                \n",
    "                if (temp*np.dot(xx, ww)) < 1:\n",
    "                    w[j] = w[j] + learning_rate * ((xx[j] * temp) + (-2 * (1/epochs) * w[j]))\n",
    "                else:\n",
    "                    w[j] = w[j] + learning_rate * (-2 * (1/epochs) * w[j])\n",
    "                \n",
    "      \n",
    "    return w\n",
    "\n",
    "\n",
    "##################################################################################################\n",
    "def test(data, w):\n",
    "    total = len(data)\n",
    "    summ=0\n",
    "    for i in data.index:\n",
    "        xx = list(data.loc[i])\n",
    "        xx = xx[:34]\n",
    "        xx.append(1)\n",
    "        result = np.dot(xx, w)\n",
    "        temp = 0\n",
    "        if data[\"34\"][i] == \"g\":\n",
    "            temp=1\n",
    "        else:\n",
    "            temp=-1\n",
    "        \n",
    "        if (temp*result)>0:\n",
    "            summ+=1\n",
    "    accur = (summ/total)*100\n",
    "    return accur\n",
    " \n",
    "    \n",
    "##################################################################################################\n",
    "\n",
    "num_epochs = 500\n",
    "w= train_svm(train_data, num_epochs)\n",
    "print(\"weight vector w after training for %d epochs is: \" %num_epochs)\n",
    "print(w)\n",
    "print()\n",
    "\n",
    "train_accur = test(train_data,w)\n",
    "test_accur = test(test_data, w)\n",
    "print(\"train_accuracy is: \", train_accur)\n",
    "print(\"test_accuracy is: \", test_accur)"
   ]
  },
  {
   "cell_type": "code",
   "execution_count": null,
   "metadata": {},
   "outputs": [],
   "source": []
  }
 ]
}