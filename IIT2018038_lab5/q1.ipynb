{
 "metadata": {
  "language_info": {
   "codemirror_mode": {
    "name": "ipython",
    "version": 3
   },
   "file_extension": ".py",
   "mimetype": "text/x-python",
   "name": "python",
   "nbconvert_exporter": "python",
   "pygments_lexer": "ipython3",
   "version": "3.8.7-final"
  },
  "orig_nbformat": 2,
  "kernelspec": {
   "name": "python3",
   "display_name": "Python 3.8.7 64-bit",
   "metadata": {
    "interpreter": {
     "hash": "082e9a3bcad0a290d0001e938aa60b99250c6c2ef33a923c00b70f9826caf4b7"
    }
   }
  }
 },
 "nbformat": 4,
 "nbformat_minor": 2,
 "cells": [
  {
   "cell_type": "code",
   "execution_count": 1,
   "metadata": {},
   "outputs": [
    {
     "output_type": "stream",
     "name": "stdout",
     "text": [
      "   Example ALT Bar Fri Hun   Pat Price Rain Res     Type        Est  \\\n0       X1   T   F   F   T  Some   $$$    F   T   French    0 to 10   \n1       X2   T   F   F   T  Full     $    F   F     Thai   30 to 60   \n2       X3   F   T   F   F  Some     $    F   F   Burger    0 to 10   \n3       X4   T   F   T   T  Full     $    F   F     Thai  10 to  30   \n4       X5   T   F   T   F  Full   $$$    F   T   French        >60   \n5       X6   F   T   F   T  Some    $$    T   T  Italian    0 to 10   \n6       X7   F   T   F   F  None     $    T   F   Burger    0 to 10   \n7       X8   F   F   F   T  Some    $$    T   T     Thai    0 to 10   \n8       X9   F   T   T   F  Full     $    T   F   Burger        >60   \n9      X10   T   T   T   T  Full   $$$    F   T  Italian   10 to 30   \n10     X11   F   F   F   F  None     $    F   F     Thai    0 to 10   \n11     X12   T   T   T   T  Full     $    F   F   Burger  30 to 60    \n\n   Target Wait  \n0            T  \n1            F  \n2            T  \n3            T  \n4            F  \n5            T  \n6            F  \n7            T  \n8            F  \n9            F  \n10           F  \n11           T  \n\nFor query, {'Example': '', 'ALT': 'T', 'Bar': 'T', 'Fri': 'F', 'Hun': 'T', 'Pat': 'Some', 'Price': '$$$', 'Rain': 'T', 'Res': 'T', 'Type': 'Italian', 'Est': '>60'}\nFinal predicted Target Wait is F\n"
     ]
    }
   ],
   "source": [
    "import pandas as pd\n",
    "df = pd.read_csv(\"DATASET.csv\");\n",
    "print(df)\n",
    "print()\n",
    "out\n",
    " = 'Target Wait'\n",
    "di = {}\n",
    "li = list(df)\n",
    "for i in li:\n",
    "    di[i] = {}\n",
    "\n",
    "    \n",
    "di[out][\"Total\"] = 0\n",
    "for i in range(len(df)):\n",
    "    if (df[out][i]) in (di[out]):\n",
    "        di[out][df[out][i]]+=1\n",
    "        di[out][\"Total\"] += 1\n",
    "    else:\n",
    "        di[out][df[out][i]]=1\n",
    "        di[out][\"Total\"] +=1\n",
    "\n",
    "#print(di[out])\n",
    "\n",
    "for i in li:\n",
    "    if i!=out:\n",
    "        for j in range(len(df)):\n",
    "            if (df[i][j]) in (di[i]):\n",
    "                di[i][df[i][j]][\"Total\"]+=1\n",
    "                di[i][df[i][j]][df.loc[j,out]]+=1\n",
    "            else:\n",
    "                di[i][df[i][j]] = {}\n",
    "                for k in di[out]:\n",
    "                    if df.loc[j,out] == k:\n",
    "                        di[i][df[i][j]][k] = 1\n",
    "                    else:\n",
    "                        di[i][df[i][j]][k] = 0\n",
    "                di[i][df[i][j]][\"Total\"] = 1\n",
    "                \n",
    "#print(di)\n",
    "#print(li)\n",
    "query = {'Example':'', 'ALT':'T', 'Bar':'T', 'Fri':'F', 'Hun':'T', 'Pat':'Some', 'Price':'$$$', 'Rain':'T', 'Res':'T', 'Type':'Italian', 'Est':'>60'}\n",
    "result = {}\n",
    "#print(di[out])\n",
    "for i in di[out]:\n",
    "    if i!='Total':\n",
    "        p_c = di[out][i]/di[out]['Total']\n",
    "        p_t =1\n",
    "        p_tc=1\n",
    "        for j in li:\n",
    "            if j!=out and query[j]!='':\n",
    "               # p_t*=(di[j][query[j]]['Total']/len(df) )\n",
    "                p_tc*=(di[j][query[j]][i]/di[out][i])\n",
    "        \n",
    "        result[i] = (p_c*p_tc)/p_t\n",
    "\n",
    "max = -1\n",
    "final =''\n",
    "for i in result:\n",
    "    if result[i]>=max:\n",
    "        max = result[i]\n",
    "        final = i\n",
    "print(\"For query,\",query)\n",
    "print(\"Final predicted\",out, \"is\",final)"
   ]
  },
  {
   "cell_type": "code",
   "execution_count": null,
   "metadata": {},
   "outputs": [],
   "source": []
  }
 ]
}